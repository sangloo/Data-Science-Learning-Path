{
 "cells": [
  {
   "cell_type": "code",
   "execution_count": 126,
   "metadata": {
    "collapsed": false
   },
   "outputs": [
    {
     "name": "stdout",
     "output_type": "stream",
     "text": [
      "in 100 sample the chance of getting a random number between -1 and 1 is: 73.0%\n",
      "in 100000 sample the chance of getting a random number between -1 and 1 is: 68.237%\n",
      "in 10000000 sample the chance of getting a random number between -1 and 1 is: 68.27569%\n"
     ]
    }
   ],
   "source": [
    "import numpy as np\n",
    "from numpy.random import randn\n",
    "\n",
    "def random_gen(n):\n",
    "    sum = 0\n",
    "    for x in randn(n):\n",
    "        if x < 1 and x > -1:\n",
    "            sum += 1\n",
    "    print(\"in {0} sample the chance of getting a random number between -1 and 1 is: {1}%\".format(n ,sum*100/n))\n",
    "    \n",
    "#the expected mathematical result should be 68.4 % of chances of getting a random number\n",
    "# between -1 and 1, since its on a 100 sample we just add percent\"\n",
    "random_gen(100)\n",
    "random_gen(100000)\n",
    "\n",
    "# to conclude in a 100 sample the result is between 59% and 74% in 20 run\n",
    "# while in the 10000 sample the result is almost always 68.xx% +- 1%."
   ]
  }
 ],
 "metadata": {
  "kernelspec": {
   "display_name": "Python 3",
   "language": "python",
   "name": "python3"
  },
  "language_info": {
   "codemirror_mode": {
    "name": "ipython",
    "version": 3
   },
   "file_extension": ".py",
   "mimetype": "text/x-python",
   "name": "python",
   "nbconvert_exporter": "python",
   "pygments_lexer": "ipython3",
   "version": "3.6.0"
  }
 },
 "nbformat": 4,
 "nbformat_minor": 2
}
